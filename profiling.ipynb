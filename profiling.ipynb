{
 "cells": [
  {
   "cell_type": "markdown",
   "metadata": {},
   "source": [
    "# Lets create a patient"
   ]
  },
  {
   "cell_type": "markdown",
   "metadata": {},
   "source": [
    "# Time to create our own model"
   ]
  },
  {
   "cell_type": "code",
   "execution_count": 5,
   "metadata": {},
   "outputs": [],
   "source": [
    "from PyTCI.weights import leanbodymass\n",
    "from patient_solver import solve_for_patient\n",
    "\n",
    "class Marsden(propofol.Propofol):\n",
    "    def __init__(self, age, weight, height, sex, params):\n",
    "        \n",
    "        lean_body_mass = leanbodymass.hume66(height, weight, sex)\n",
    "        \n",
    "        self.v1 = ((params[1] * 50) - params[2]*(age - (params[3] * 100))) * (params[4] * (lean_body_mass - (params[5] * 100)))\n",
    "        self.v2 = params[6] * lean_body_mass * 2\n",
    "        self.v3 = params[7] * weight * 5\n",
    "        \n",
    "        self.Q1 = (params[8] * self.v1) * (params[9] * age)\n",
    "        self.Q2 = params[9]\n",
    "        self.Q3 = params[0]\n",
    "        \n",
    "        self.keo = 0\n",
    "        \n",
    "        propofol.Propofol.from_clearances(self)\n",
    "        propofol.Propofol.setup(self)\n",
    "                                                         \n",
    "                   \n",
    "                   \n",
    "                   \n",
    "def solve_for_custom(patient, params):\n",
    "    patient_model = Marsden(patient[\"age\"], patient[\"weight\"], patient[\"height\"], patient[\"sex\"], params )\n",
    "    return solve_for_patient(patient_model, patient[\"events\"])\n",
    "                                                               "
   ]
  },
  {
   "cell_type": "code",
   "execution_count": 6,
   "metadata": {
    "scrolled": false
   },
   "outputs": [
    {
     "name": "stdout",
     "output_type": "stream",
     "text": [
      "[0.257, 0.3536, 0.7554, 0.4938, 0.4435, 0.4727, 0.1892, 0.5205, 0.22, 0.0314]\n",
      "[0.9803, 0.3328, 0.0437, 0.431, 0.4732, 0.0898, 0.2223, 0.5343, 0.8534, 0.0379]\n"
     ]
    },
    {
     "data": {
      "image/png": "[encoded data removed]",
      "text/plain": [
       "<Figure size 576x576 with 1 Axes>"
      ]
     },
     "metadata": {
      "needs_background": "light"
     },
     "output_type": "display_data"
    }
   ],
   "source": [
    "%matplotlib inline\n",
    "\n",
    "from genetic_solver import mutate_population, create_new_set\n",
    "plt.figure(figsize=(8,8))\n",
    "\n",
    "setlength = 10\n",
    "\n",
    "example_1 = create_new_set(setlength)\n",
    "example_2 = create_new_set(setlength)\n",
    "\n",
    "def plt_set(j, k, l):\n",
    "    for i in range(len(j)):\n",
    "        scale = j[i] * 20\n",
    "        plt.scatter(k, i, s=scale, c=l, alpha=0.4)\n",
    "        \n",
    "plt_set(example_1, 1, 'b')\n",
    "plt_set(example_2, 2, 'b')\n",
    "\n",
    "\n",
    "print(example_1)\n",
    "print(example_2)\n",
    "\n",
    "pop = mutate_population(10, example_1, example_2, 4)\n",
    "\n",
    "num = 3\n",
    "for j in range(len(pop)):\n",
    "    num+=1\n",
    "    colour = 'r'\n",
    "    if 13 < num < 16:\n",
    "        colour = 'y'\n",
    "    elif num > 15:\n",
    "        colour = 'g'\n",
    "    plt_set(pop[j], num, colour)\n",
    "    \n",
    "\n",
    "plt.show()"
   ]
  },
  {
   "cell_type": "code",
   "execution_count": 5,
   "metadata": {},
   "outputs": [],
   "source": [
    "from csvreader import read_patient_csv\n",
    "\n",
    "def test_against_real_data(stuff):\n",
    "    pmin = stuff[0]\n",
    "    pmax = stuff[1]\n",
    "    params = stuff[2]\n",
    "    patients = read_patient_csv()\n",
    "\n",
    "    totalrms = 0\n",
    "    totalmed = 0\n",
    "    totalbias = 0\n",
    "    count = 0\n",
    "\n",
    "    for patient in patients[pmin:pmax]:\n",
    "        res = solve_for_custom(patient, params)\n",
    "        a = res[\"percent\"]\n",
    "        med = res[\"median\"]\n",
    "        bias = res[\"bias\"]\n",
    "\n",
    "        totalrms += a\n",
    "        totalbias += bias\n",
    "        totalmed += med\n",
    "        count += 1\n",
    "\n",
    "    b = totalrms / count\n",
    "    c = totalmed / count\n",
    "    d = totalbias / count\n",
    "\n",
    "    data = (b, c, d)\n",
    "    return data"
   ]
  },
  {
   "cell_type": "code",
   "execution_count": 8,
   "metadata": {},
   "outputs": [
    {
     "name": "stdout",
     "output_type": "stream",
     "text": [
      "creating population\n",
      "beginning test\n"
     ]
    },
    {
     "ename": "NameError",
     "evalue": "name 'pool' is not defined",
     "output_type": "error",
     "traceback": [
      "\u001b[0;31m---------------------------------------------------------------------------\u001b[0m",
      "\u001b[0;31mNameError\u001b[0m                                 Traceback (most recent call last)",
      "\u001b[0;32m<ipython-input-8-0e97aa25e7df>\u001b[0m in \u001b[0;36m<module>\u001b[0;34m\u001b[0m\n\u001b[1;32m     37\u001b[0m \u001b[0;34m\u001b[0m\u001b[0m\n\u001b[1;32m     38\u001b[0m \u001b[0mprint\u001b[0m\u001b[0;34m(\u001b[0m\u001b[0;34m\"beginning test\"\u001b[0m\u001b[0;34m)\u001b[0m\u001b[0;34m\u001b[0m\u001b[0;34m\u001b[0m\u001b[0m\n\u001b[0;32m---> 39\u001b[0;31m \u001b[0mfit_results\u001b[0m \u001b[0;34m=\u001b[0m \u001b[0mtest_population\u001b[0m\u001b[0;34m(\u001b[0m\u001b[0mpop\u001b[0m\u001b[0;34m)\u001b[0m\u001b[0;34m\u001b[0m\u001b[0;34m\u001b[0m\u001b[0m\n\u001b[0m\u001b[1;32m     40\u001b[0m \u001b[0;34m\u001b[0m\u001b[0m\n\u001b[1;32m     41\u001b[0m \u001b[0mfittest_set\u001b[0m \u001b[0;34m=\u001b[0m \u001b[0mfit_results\u001b[0m\u001b[0;34m[\u001b[0m\u001b[0;36m0\u001b[0m\u001b[0;34m]\u001b[0m\u001b[0;34m\u001b[0m\u001b[0;34m\u001b[0m\u001b[0m\n",
      "\u001b[0;32m<ipython-input-8-0e97aa25e7df>\u001b[0m in \u001b[0;36mtest_population\u001b[0;34m(pop)\u001b[0m\n\u001b[1;32m     18\u001b[0m     \u001b[0;32mfor\u001b[0m \u001b[0mi\u001b[0m \u001b[0;32min\u001b[0m \u001b[0mpop\u001b[0m\u001b[0;34m:\u001b[0m\u001b[0;34m\u001b[0m\u001b[0;34m\u001b[0m\u001b[0m\n\u001b[1;32m     19\u001b[0m         \u001b[0mstuff\u001b[0m \u001b[0;34m=\u001b[0m \u001b[0;34m(\u001b[0m\u001b[0;36m1\u001b[0m\u001b[0;34m,\u001b[0m \u001b[0;36m50\u001b[0m\u001b[0;34m,\u001b[0m \u001b[0mi\u001b[0m\u001b[0;34m)\u001b[0m\u001b[0;34m\u001b[0m\u001b[0;34m\u001b[0m\u001b[0m\n\u001b[0;32m---> 20\u001b[0;31m         \u001b[0mresult\u001b[0m \u001b[0;34m=\u001b[0m \u001b[0mmulti_core_test\u001b[0m\u001b[0;34m(\u001b[0m\u001b[0;36m4\u001b[0m\u001b[0;34m,\u001b[0m \u001b[0;36m100\u001b[0m\u001b[0;34m,\u001b[0m \u001b[0mi\u001b[0m\u001b[0;34m)\u001b[0m\u001b[0;34m\u001b[0m\u001b[0;34m\u001b[0m\u001b[0m\n\u001b[0m\u001b[1;32m     21\u001b[0m         \u001b[0mfitness\u001b[0m \u001b[0;34m=\u001b[0m \u001b[0mresult\u001b[0m\u001b[0;34m[\u001b[0m\u001b[0;36m1\u001b[0m\u001b[0;34m]\u001b[0m\u001b[0;34m\u001b[0m\u001b[0;34m\u001b[0m\u001b[0m\n\u001b[1;32m     22\u001b[0m         \u001b[0mpop_list\u001b[0m\u001b[0;34m.\u001b[0m\u001b[0mappend\u001b[0m\u001b[0;34m(\u001b[0m\u001b[0;34m[\u001b[0m\u001b[0mfitness\u001b[0m\u001b[0;34m,\u001b[0m \u001b[0mi\u001b[0m\u001b[0;34m,\u001b[0m \u001b[0mresult\u001b[0m\u001b[0;34m]\u001b[0m\u001b[0;34m)\u001b[0m\u001b[0;34m\u001b[0m\u001b[0;34m\u001b[0m\u001b[0m\n",
      "\u001b[0;32m~/Code/Propofol/genetic_solver.py\u001b[0m in \u001b[0;36mmulti_core_test\u001b[0;34m(cores, maxpt, params)\u001b[0m\n\u001b[1;32m    155\u001b[0m         \u001b[0mjobs\u001b[0m\u001b[0;34m.\u001b[0m\u001b[0mappend\u001b[0m\u001b[0;34m(\u001b[0m\u001b[0mthing\u001b[0m\u001b[0;34m)\u001b[0m\u001b[0;34m\u001b[0m\u001b[0;34m\u001b[0m\u001b[0m\n\u001b[1;32m    156\u001b[0m \u001b[0;34m\u001b[0m\u001b[0m\n\u001b[0;32m--> 157\u001b[0;31m     \u001b[0mpool\u001b[0m \u001b[0;34m=\u001b[0m \u001b[0mPool\u001b[0m\u001b[0;34m(\u001b[0m\u001b[0mcores\u001b[0m\u001b[0;34m)\u001b[0m\u001b[0;34m\u001b[0m\u001b[0;34m\u001b[0m\u001b[0m\n\u001b[0m\u001b[1;32m    158\u001b[0m \u001b[0;34m\u001b[0m\u001b[0m\n\u001b[1;32m    159\u001b[0m     \u001b[0mresults\u001b[0m \u001b[0;34m=\u001b[0m \u001b[0mpool\u001b[0m\u001b[0;34m.\u001b[0m\u001b[0mmap\u001b[0m\u001b[0;34m(\u001b[0m\u001b[0mtest_against_real_data\u001b[0m\u001b[0;34m,\u001b[0m \u001b[0mjobs\u001b[0m\u001b[0;34m)\u001b[0m\u001b[0;34m\u001b[0m\u001b[0;34m\u001b[0m\u001b[0m\n",
      "\u001b[0;31mNameError\u001b[0m: name 'pool' is not defined"
     ]
    },
    {
     "data": {
      "text/plain": [
       "<Figure size 576x576 with 0 Axes>"
      ]
     },
     "metadata": {},
     "output_type": "display_data"
    }
   ],
   "source": [
    "from genetic_solver import create_new_population, multi_core_test\n",
    "%matplotlib inline\n",
    "import time\n",
    "import matplotlib.pyplot as plt\n",
    "\n",
    "from IPython import display\n",
    "from multiprocessing import Pool\n",
    "plt.figure(figsize=(8,8))\n",
    "print(\"creating population\")\n",
    "\n",
    "pop = create_new_population(10, 10)\n",
    "pool = Pool(4)\n",
    "\n",
    "\n",
    "def test_population(pop):\n",
    "\n",
    "    pop_list = []\n",
    "    for i in pop:\n",
    "        stuff = (1, 50, i)\n",
    "        result = multi_core_test(4, 100, i)\n",
    "        fitness = result[1]\n",
    "        pop_list.append([fitness, i, result])\n",
    "#         try:\n",
    "#             result = multi_core_test(4, 100, i)\n",
    "#             fitness = result[1]\n",
    "#             pop_list.append([fitness, i, result])\n",
    "\n",
    "#         except:\n",
    "#             result = (99, 99, 99)\n",
    "#             fitness = result[1]\n",
    "#             pop_list.append([fitness, i, result])\n",
    "    \n",
    "    pop_list.sort()\n",
    "    output = (pop_list[0][1], pop_list[0][2], pop_list[1][1], pop_list[1][2])\n",
    "\n",
    "    return output\n",
    "\n",
    "print(\"beginning test\")\n",
    "fit_results = test_population(pop)\n",
    "\n",
    "fittest_set = fit_results[0]\n",
    "best_fitness = fit_results[1][1]\n",
    "second_set = fit_results[2]\n",
    "second_fitness = fit_results[3][1]\n",
    "\n",
    "max_tries = 0\n",
    "while best_fitness > 9.9:\n",
    "    fit_results = test_population(pop)\n",
    "    best_fitness = fit_results[1][1]\n",
    "    \n",
    "    print (\"trying again\")    \n",
    "\n",
    "pltB = []\n",
    "pltS = []\n",
    "\n",
    "\n",
    "print(\"starting\")\n",
    "plt.axis([0, 20, 0, 1.2])\n",
    "for _ in range(30):\n",
    "    new_pop = mutate_population(4, fittest_set, second_set, 4)\n",
    "    \n",
    "    fit_results = test_population(new_pop)\n",
    "\n",
    "    fittest_set = fit_results[0]\n",
    "    best_fitness = fit_results[1][1]\n",
    "    second_set = fit_results[2]\n",
    "    second_fitness = fit_results[3][1]\n",
    "    \n",
    "    pltB.append(best_fitness)\n",
    "    pltS.append(second_fitness)\n",
    "    \n",
    "    plt.plot(pltB, 'g', pltS, 'y')\n",
    "    display.clear_output(wait=True)\n",
    "    display.display(plt.gcf())\n",
    "    time.sleep(0.05)\n",
    "\n",
    "print (\"finished!!\")"
   ]
  },
  {
   "cell_type": "code",
   "execution_count": null,
   "metadata": {},
   "outputs": [],
   "source": []
  },
  {
   "cell_type": "code",
   "execution_count": null,
   "metadata": {},
   "outputs": [],
   "source": []
  }
 ],
 "metadata": {
  "kernelspec": {
   "display_name": "Python 3",
   "language": "python",
   "name": "python3"
  },
  "language_info": {
   "codemirror_mode": {
    "name": "ipython",
    "version": 3
   },
   "file_extension": ".py",
   "mimetype": "text/x-python",
   "name": "python",
   "nbconvert_exporter": "python",
   "pygments_lexer": "ipython3",
   "version": "3.7.3"
  }
 },
 "nbformat": 4,
 "nbformat_minor": 2
}
