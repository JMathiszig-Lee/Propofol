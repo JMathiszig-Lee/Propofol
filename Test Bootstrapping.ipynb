{
 "cells": [
  {
   "cell_type": "code",
   "execution_count": 10,
   "metadata": {},
   "outputs": [],
   "source": [
    "import matplotlib.pyplot as plt\n",
    "\n",
    "from csvreader import read_patient_csv\n",
    "from comparison import compare_models"
   ]
  },
  {
   "cell_type": "code",
   "execution_count": 11,
   "metadata": {},
   "outputs": [],
   "source": [
    "patientSet = read_patient_csv()\n",
    "Adults = []\n",
    "for patient in patientSet:\n",
    "    if patient[\"age\"] > 17:\n",
    "        Adults.append(patient)"
   ]
  },
  {
   "cell_type": "code",
   "execution_count": 12,
   "metadata": {},
   "outputs": [],
   "source": [
    "results = compare_models(Adults, \"Marsh\")"
   ]
  },
  {
   "cell_type": "code",
   "execution_count": 13,
   "metadata": {},
   "outputs": [
    {
     "name": "stdout",
     "output_type": "stream",
     "text": [
      "{'patient': '1', 'results': {'MDPE': 0.8454222680966839, 'MDAPE': 0.8454222680966839, 'Wobble': 0.17816757300569736}}\n"
     ]
    }
   ],
   "source": [
    "print(results[\"patient_level\"][0])"
   ]
  },
  {
   "cell_type": "code",
   "execution_count": 14,
   "metadata": {},
   "outputs": [
    {
     "name": "stdout",
     "output_type": "stream",
     "text": [
      "['1', '2', '3', '4', '5', '6', '7', '8', '9', '10', '11', '12', '13', '14', '15', '16', '17', '18', '19', '20', '21', '22', '23', '24', '25', '26', '27', '28', '29', '30', '31', '32', '33', '34', '35', '36', '37', '38', '39', '40', '41', '42', '43', '44', '45', '46', '47', '48', '49', '50', '51', '52', '53', '54', '55', '56', '57', '58', '59', '60', '61', '62', '63', '64', '65', '66', '67', '68', '69', '70', '71', '72', '73', '74', '75', '76', '77', '78', '79', '80', '81', '82', '83', '84', '85', '86', '87', '88', '89', '90', '91', '92', '93', '94', '95', '96', '97', '98', '99', '100', '101', '102', '103', '104', '105', '106', '107', '108', '109', '110', '111', '112', '113', '114', '115', '116', '117', '118', '119', '120', '121', '122', '123', '124', '125', '126', '127', '128', '129', '130', '131', '132', '133', '134', '135', '136', '137', '138', '139', '140', '141', '142', '143', '144', '145', '146', '147', '148', '149', '150', '151', '152', '153', '154', '155', '156', '157', '158', '159', '160', '161', '162', '163', '164', '165', '166', '167', '168', '169', '170', '171', '172', '173', '174', '175', '176', '177', '178', '179', '180', '181', '182', '183', '184', '185', '186', '187', '188', '189', '190', '191', '192', '193', '194', '195', '196', '197', '198', '199', '200', '201', '202', '203', '204', '205', '206', '207', '208', '209', '210', '211', '212', '213', '214', '215', '216', '217', '218', '219', '220', '221', '222', '223', '224', '225', '226', '227', '228', '229', '230', '231', '232', '233', '234', '235', '236', '237', '238', '239', '240', '241', '242', '243', '244', '245', '246', '247', '248', '249', '250', '251', '252', '253', '307', '308', '309', '310', '311', '312', '313', '314', '315', '316', '317', '318', '319', '320', '321', '322', '323', '324', '325', '326', '327', '328', '329', '330', '331', '332', '333', '334', '335', '336', '337', '338', '339', '340', '341', '342', '343', '344', '345', '346', '347', '348', '349', '350', '351', '352', '353', '354', '355', '356', '357', '358', '359', '360', '361', '362', '363', '364', '365', '366', '367', '368', '369', '370', '371', '372', '373', '374', '375', '376', '377', '378', '379', '380', '381', '382', '383', '384', '385', '386', '387', '388', '389', '390', '391', '392', '393', '394', '395', '396', '397', '398', '399', '400', '401', '402', '509', '510', '511', '512', '513', '514', '515', '516', '517', '518', '519', '520', '521', '522', '523', '524', '525', '526', '527', '528', '529', '530', '531', '532', '533', '534', '535', '536', '537', '538', '539', '540', '541', '542', '543', '544', '545', '546', '547', '548', '549', '550', '551', '552', '553', '554', '555', '556', '557', '558', '559', '560', '561', '562', '563', '564', '565', '566', '567', '568', '569', '570', '571', '572', '573', '574', '575', '576', '577', '578', '579', '580', '581', '582', '583', '584', '585', '586', '587', '588', '589', '590', '591', '592', '593', '594', '595', '596', '597', '598', '599', '600', '601', '602', '603', '604', '605', '606', '607', '608', '609', '610', '611', '612', '613', '614', '615', '616', '617', '618', '619', '620', '621', '622', '623', '624', '625', '626', '627', '628', '629', '630', '631', '632', '633', '634', '635', '636', '637', '638', '639', '640', '641', '642', '643', '644', '645', '646', '647', '648', '649', '650', '651', '652', '653', '654', '655', '656', '657', '658', '659', '660', '661', '662', '663', '664', '665', '666', '667', '670', '671', '672', '673', '674', '675', '676', '677', '678', '679', '680', '681', '682', '683', '684']\n"
     ]
    }
   ],
   "source": [
    "patient_IDs = [d[\"patient\"] for d in results[\"patient_level\"]]\n",
    "print(patient_IDs)"
   ]
  },
  {
   "cell_type": "code",
   "execution_count": 31,
   "metadata": {},
   "outputs": [
    {
     "name": "stdout",
     "output_type": "stream",
     "text": [
      "523\n"
     ]
    }
   ],
   "source": [
    "from sklearn.utils import resample\n",
    "\n",
    "resampled = resample(patient_IDs, n_samples=len(patient_IDs))\n",
    "print(len(resampled))"
   ]
  },
  {
   "cell_type": "code",
   "execution_count": 33,
   "metadata": {},
   "outputs": [
    {
     "name": "stdout",
     "output_type": "stream",
     "text": [
      "323\n"
     ]
    }
   ],
   "source": [
    "sampled_median = [m[\"results\"][\"MDAPE\"] for m in results[\"patient_level\"] if m[\"patient\"] in resampled]\n",
    "print(len(sampled_median))"
   ]
  },
  {
   "cell_type": "code",
   "execution_count": 30,
   "metadata": {},
   "outputs": [
    {
     "name": "stdout",
     "output_type": "stream",
     "text": [
      "324\n"
     ]
    }
   ],
   "source": []
  },
  {
   "cell_type": "code",
   "execution_count": 18,
   "metadata": {},
   "outputs": [],
   "source": [
    "unsampled_median = [m[\"results\"][\"MDAPE\"] for m in results[\"patient_level\"]]\n",
    "\n",
    "sampled_median = []\n",
    "\n",
    "for i in resampled:\n",
    "    j = [m[\"results\"][\"MDAPE\"] for m in results[\"patient_level\"] if m[\"patient\"] == i]\n",
    "    sampled_median.append(j)"
   ]
  },
  {
   "cell_type": "code",
   "execution_count": 19,
   "metadata": {},
   "outputs": [
    {
     "name": "stdout",
     "output_type": "stream",
     "text": [
      "0.34693299752056883\n",
      "0.33833626176335707\n"
     ]
    }
   ],
   "source": [
    "import statistics\n",
    "\n",
    "print(statistics.median(unsampled_median))\n",
    "print(statistics.median(sampled_median)[0])"
   ]
  },
  {
   "cell_type": "code",
   "execution_count": 20,
   "metadata": {},
   "outputs": [
    {
     "name": "stdout",
     "output_type": "stream",
     "text": [
      "128 µs ± 3.13 µs per loop (mean ± std. dev. of 7 runs, 10000 loops each)\n"
     ]
    }
   ],
   "source": [
    "%%timeit\n",
    "\n",
    "resampled = resample(patient_IDs, n_samples=len(patient_IDs))\n"
   ]
  },
  {
   "cell_type": "code",
   "execution_count": 21,
   "metadata": {},
   "outputs": [
    {
     "name": "stdout",
     "output_type": "stream",
     "text": [
      "12.3 ms ± 320 µs per loop (mean ± std. dev. of 7 runs, 100 loops each)\n"
     ]
    }
   ],
   "source": [
    "%%timeit\n",
    "\n",
    "for i in resampled:\n",
    "        j = [m[\"results\"][\"MDAPE\"] for m in results[\"patient_level\"] if m[\"patient\"] == i]"
   ]
  },
  {
   "cell_type": "code",
   "execution_count": 22,
   "metadata": {},
   "outputs": [
    {
     "name": "stdout",
     "output_type": "stream",
     "text": [
      "0.3500143751605008\n"
     ]
    }
   ],
   "source": [
    "medians = []\n",
    "\n",
    "for _ in range (1000):\n",
    "    resampled = resample(patient_IDs, n_samples=len(patient_IDs), random_state=9)\n",
    "    sampled_median = []\n",
    "\n",
    "    for i in resampled:\n",
    "        j = [m[\"results\"][\"MDAPE\"] for m in results[\"patient_level\"] if m[\"patient\"] == i]\n",
    "        sampled_median.append(j)\n",
    "        \n",
    "    medians.append(statistics.median(sampled_median)[0])\n",
    "    \n",
    "print(statistics.median(medians))"
   ]
  },
  {
   "cell_type": "code",
   "execution_count": 24,
   "metadata": {},
   "outputs": [
    {
     "name": "stdout",
     "output_type": "stream",
     "text": [
      "0.3516910628905451\n"
     ]
    }
   ],
   "source": [
    "medians = []\n",
    "\n",
    "for _ in range (1000):\n",
    "    resampled = resample(patient_IDs, n_samples=len(patient_IDs), random_state=9)\n",
    "    sampled_median = [m[\"results\"][\"MDAPE\"] for m in results[\"patient_level\"] if m[\"patient\"] in resampled]\n",
    "        \n",
    "    medians.append(statistics.median(sampled_median))\n",
    "\n",
    "sampled_median = [m[\"results\"][\"MDAPE\"] for m in results[\"patient_level\"] if m[\"patient\"] in resampled]\n",
    "\n",
    "print(statistics.median(medians))"
   ]
  },
  {
   "cell_type": "code",
   "execution_count": null,
   "metadata": {},
   "outputs": [],
   "source": [
    "print(medians)"
   ]
  },
  {
   "cell_type": "code",
   "execution_count": 34,
   "metadata": {},
   "outputs": [
    {
     "data": {
      "text/plain": [
       "(array([   0.,    0.,    0.,    0.,    0.,    0.,    0.,    0.,    0.,\n",
       "           0.,    0.,    0.,    0.,    0.,    0.,    0.,    0.,    0.,\n",
       "           0.,    0.,    0.,    0.,    0.,    0.,    0., 1000.,    0.,\n",
       "           0.,    0.,    0.,    0.,    0.,    0.,    0.,    0.,    0.,\n",
       "           0.,    0.,    0.,    0.,    0.,    0.,    0.,    0.,    0.,\n",
       "           0.,    0.,    0.,    0.,    0.]),\n",
       " array([-0.14830894, -0.12830894, -0.10830894, -0.08830894, -0.06830894,\n",
       "        -0.04830894, -0.02830894, -0.00830894,  0.01169106,  0.03169106,\n",
       "         0.05169106,  0.07169106,  0.09169106,  0.11169106,  0.13169106,\n",
       "         0.15169106,  0.17169106,  0.19169106,  0.21169106,  0.23169106,\n",
       "         0.25169106,  0.27169106,  0.29169106,  0.31169106,  0.33169106,\n",
       "         0.35169106,  0.37169106,  0.39169106,  0.41169106,  0.43169106,\n",
       "         0.45169106,  0.47169106,  0.49169106,  0.51169106,  0.53169106,\n",
       "         0.55169106,  0.57169106,  0.59169106,  0.61169106,  0.63169106,\n",
       "         0.65169106,  0.67169106,  0.69169106,  0.71169106,  0.73169106,\n",
       "         0.75169106,  0.77169106,  0.79169106,  0.81169106,  0.83169106,\n",
       "         0.85169106]),\n",
       " <BarContainer object of 50 artists>)"
      ]
     },
     "execution_count": 34,
     "metadata": {},
     "output_type": "execute_result"
    },
    {
     "data": {
      "image/png": "[encoded data removed]",
      "text/plain": [
       "<Figure size 432x288 with 1 Axes>"
      ]
     },
     "metadata": {
      "needs_background": "light"
     },
     "output_type": "display_data"
    }
   ],
   "source": [
    "plt.hist(medians, 50)"
   ]
  },
  {
   "cell_type": "code",
   "execution_count": null,
   "metadata": {},
   "outputs": [],
   "source": []
  }
 ],
 "metadata": {
  "kernelspec": {
   "display_name": "Python 3",
   "language": "python",
   "name": "python3"
  },
  "language_info": {
   "codemirror_mode": {
    "name": "ipython",
    "version": 3
   },
   "file_extension": ".py",
   "mimetype": "text/x-python",
   "name": "python",
   "nbconvert_exporter": "python",
   "pygments_lexer": "ipython3",
   "version": "3.8.6"
  }
 },
 "nbformat": 4,
 "nbformat_minor": 4
}
