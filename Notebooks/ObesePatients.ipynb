{
 "cells": [
  {
   "cell_type": "code",
   "execution_count": 2,
   "metadata": {},
   "outputs": [],
   "source": [
    "from csvreader import read_patient_csv\n",
    "from PyTCI.weights import leanbodymass\n",
    "from matplotlib import pyplot\n",
    "from patient_solver import solve_for_marsh, solve_for_schnider\n",
    "import math\n",
    "import statistics\n",
    "import numpy"
   ]
  },
  {
   "cell_type": "code",
   "execution_count": 3,
   "metadata": {},
   "outputs": [],
   "source": [
    "patients = read_patient_csv()\n",
    "\n",
    "obese_patients = []\n",
    "for patient in patients:\n",
    "    patient[\"bmi\"] = leanbodymass.bmi(patient[\"height\"], patient[\"weight\"])\n",
    "    if patient[\"bmi\"] >=35:\n",
    "        obese_patients.append(patient)"
   ]
  },
  {
   "cell_type": "code",
   "execution_count": 7,
   "metadata": {},
   "outputs": [
    {
     "name": "stdout",
     "output_type": "stream",
     "text": [
      "254 3.0\n",
      "255 5.0\n",
      "256 3.0\n",
      "257 4.0\n",
      "258 5.0\n",
      "259 3.0\n",
      "260 5.0\n",
      "261 7.0\n",
      "262 6.0\n",
      "263 6.0\n",
      "264 8.0\n",
      "265 7.0\n",
      "266 7.0\n",
      "267 7.0\n",
      "268 10.0\n",
      "269 10.0\n",
      "270 9.0\n",
      "271 10.0\n",
      "272 11.0\n",
      "273 11.0\n",
      "274 10.0\n",
      "275 4.0\n",
      "276 5.0\n",
      "277 4.0\n",
      "278 3.0\n",
      "279 4.0\n",
      "280 5.0\n",
      "281 5.0\n",
      "282 4.0\n",
      "283 4.0\n",
      "284 3.0\n",
      "285 4.0\n",
      "286 7.0\n",
      "287 7.0\n",
      "288 7.0\n",
      "289 6.0\n",
      "290 8.0\n",
      "291 8.0\n",
      "292 8.0\n",
      "293 8.0\n",
      "294 8.0\n",
      "295 6.0\n",
      "296 7.0\n",
      "297 10.0\n",
      "298 9.0\n",
      "299 9.0\n",
      "300 9.0\n",
      "301 9.0\n",
      "302 10.0\n",
      "303 10.0\n",
      "304 11.0\n",
      "305 10.0\n",
      "306 11.0\n",
      "403 5.0\n",
      "404 5.0\n",
      "405 3.0\n",
      "406 3.0\n",
      "407 5.0\n",
      "408 5.0\n",
      "409 4.0\n",
      "410 6.0\n",
      "411 6.0\n",
      "412 6.0\n",
      "413 5.0\n",
      "414 6.0\n",
      "415 6.0\n",
      "416 5.0\n",
      "417 8.0\n",
      "418 7.0\n",
      "419 8.0\n",
      "420 7.0\n",
      "421 7.0\n",
      "422 7.0\n",
      "423 8.0\n",
      "424 11.0\n",
      "425 10.0\n",
      "426 9.0\n",
      "427 9.0\n",
      "428 10.0\n",
      "429 11.0\n",
      "430 10.0\n",
      "431 7.8\n",
      "432 5.0\n",
      "433 5.0\n",
      "434 7.0\n",
      "435 10.0\n",
      "436 4.0\n",
      "437 4.25\n",
      "438 6.0\n",
      "439 7.0\n",
      "440 5.0\n",
      "441 3.0\n",
      "442 2.0\n",
      "443 2.0\n",
      "444 2.0\n",
      "445 4.0\n",
      "446 1.75\n",
      "447 7.0\n",
      "448 3.25\n",
      "449 7.0\n",
      "450 5.0\n",
      "451 4.0\n",
      "452 3.0\n",
      "453 3.0\n",
      "454 4.0\n",
      "455 7.4\n",
      "456 4.5\n",
      "457 8.0\n",
      "458 9.33\n",
      "459 4.66\n",
      "460 2.6\n",
      "461 3.25\n",
      "462 5.0\n",
      "463 5.2\n",
      "464 3.0\n",
      "465 14.0\n",
      "466 17.0\n",
      "467 17.0\n",
      "468 0.33\n",
      "469 0.44\n",
      "470 0.46\n",
      "471 1.35\n",
      "472 1.4\n",
      "473 1.23\n",
      "474 1.21\n",
      "475 0.35\n",
      "476 0.25\n",
      "477 0.56\n",
      "478 0.27\n",
      "479 0.31\n",
      "480 1.1\n",
      "481 0.83\n",
      "482 2.0\n",
      "483 1.12\n",
      "484 0.96\n",
      "485 0.29\n",
      "486 0.48\n",
      "487 0.27\n",
      "488 1.0\n",
      "489 1.21\n",
      "490 1.13\n",
      "491 0.29\n",
      "492 1.15\n",
      "493 1.04\n",
      "494 0.92\n",
      "495 0.4\n",
      "496 1.15\n",
      "497 0.35\n",
      "498 0.35\n",
      "499 0.75\n",
      "500 0.35\n",
      "501 0.33\n",
      "502 1.0\n",
      "503 0.37\n",
      "504 0.35\n",
      "505 0.33\n",
      "506 1.42\n",
      "507 1.04\n",
      "508 1.19\n",
      "668 17.0\n",
      "669 17.0\n"
     ]
    }
   ],
   "source": [
    "for patient in patients:\n",
    "    if patient[\"age\"] < 18:\n",
    "        print(patient[\"id\"], patient[\"age\"])"
   ]
  },
  {
   "cell_type": "code",
   "execution_count": 4,
   "metadata": {},
   "outputs": [
    {
     "data": {
      "text/plain": [
       "(array([6., 5., 4., 8., 1., 0., 1., 1., 1., 1.]),\n",
       " array([35.4 , 37.14, 38.88, 40.62, 42.36, 44.1 , 45.84, 47.58, 49.32,\n",
       "        51.06, 52.8 ]),\n",
       " <a list of 10 Patch objects>)"
      ]
     },
     "execution_count": 4,
     "metadata": {},
     "output_type": "execute_result"
    },
    {
     "data": {
      "image/png": "[encoded data removed]",
      "text/plain": [
       "<Figure size 432x288 with 1 Axes>"
      ]
     },
     "metadata": {
      "needs_background": "light"
     },
     "output_type": "display_data"
    }
   ],
   "source": [
    "bmis = []\n",
    "for person in obese_patients:\n",
    "    bmis.append(person[\"bmi\"])\n",
    "    \n",
    "pyplot.hist(bmis)"
   ]
  },
  {
   "cell_type": "code",
   "execution_count": 5,
   "metadata": {},
   "outputs": [],
   "source": [
    "marsh_medians= []\n",
    "marsh_bias = []\n",
    "schnider_median = []\n",
    "schnider_bias = []\n",
    "\n",
    "mod_marsh_medians= []\n",
    "mod_marsh_bias = []\n",
    "mod_schnider_median = []\n",
    "mod_schnider_bias = []\n",
    "\n",
    "for patient in obese_patients:\n",
    "    res = solve_for_marsh(patient, [])\n",
    "    marsh_medians.append(res[\"median\"])\n",
    "    marsh_bias.append(res[\"bias\"])\n",
    "    \n",
    "    res = solve_for_schnider(patient, [])\n",
    "    schnider_median.append(res[\"median\"])\n",
    "    schnider_bias.append(res[\"bias\"])\n",
    "    \n",
    "    if patient[\"sex\"] == 'm':\n",
    "        patient[\"weight\"] = 1 * (patient[\"height\"]-60)\n",
    "    else:\n",
    "        patient[\"weight\"] = 1 * (patient[\"height\"]-65)\n",
    "    \n",
    "    res = solve_for_marsh(patient, [])\n",
    "    mod_marsh_medians.append(res[\"median\"])\n",
    "    mod_marsh_bias.append(res[\"bias\"])\n",
    "    \n",
    "    res = solve_for_schnider(patient, [])\n",
    "    mod_schnider_median.append(res[\"median\"])\n",
    "    mod_schnider_bias.append(res[\"bias\"])\n",
    "    \n",
    "\n",
    "    "
   ]
  },
  {
   "cell_type": "code",
   "execution_count": 6,
   "metadata": {},
   "outputs": [],
   "source": [
    "def returnmedian(a, b):\n",
    "    marsh_medians= []\n",
    "        \n",
    "    for patient in obese_patients:\n",
    "\n",
    "        if patient[\"sex\"] == 'm':\n",
    "            patient[\"weight\"] = a * (patient[\"height\"]-b)\n",
    "        else:\n",
    "            patient[\"weight\"] = a * (patient[\"height\"]-(b+5))\n",
    "\n",
    "        res = solve_for_marsh(patient, [])\n",
    "        marsh_medians.append(res[\"median\"])\n",
    "        \n",
    "    return round(statistics.mean(marsh_medians), 2)"
   ]
  },
  {
   "cell_type": "code",
   "execution_count": 7,
   "metadata": {},
   "outputs": [
    {
     "name": "stdout",
     "output_type": "stream",
     "text": [
      "baseline\n",
      "0.4130745879822339\n",
      "0.35323276362642625\n",
      "0.47536457968460366\n",
      "0.4509686532186564\n",
      "modified\n",
      "0.40025640404345164\n",
      "0.4421080524909651\n",
      "0.5499296036115516\n",
      "0.4349164561521482\n"
     ]
    }
   ],
   "source": [
    "base = [marsh_medians, marsh_bias, schnider_median, schnider_bias]\n",
    "\n",
    "modified = [mod_marsh_medians, mod_marsh_bias, mod_schnider_median, mod_schnider_bias]\n",
    "\n",
    "print(\"baseline\")\n",
    "for thing in base:\n",
    "    c = [i ** 2 for i in thing]\n",
    "    a = numpy.sqrt(c)\n",
    "    b = statistics.median(a)\n",
    "    print(b)\n",
    "    \n",
    "print(\"modified\")    \n",
    "for thing in modified:\n",
    "    c = [i ** 2 for i in thing]\n",
    "    a = numpy.sqrt(c)\n",
    "    b = statistics.median(a)\n",
    "    print(b)"
   ]
  },
  {
   "cell_type": "code",
   "execution_count": 8,
   "metadata": {},
   "outputs": [
    {
     "data": {
      "image/png": "[encoded data removed]",
      "text/plain": [
       "<Figure size 432x288 with 1 Axes>"
      ]
     },
     "metadata": {
      "needs_background": "light"
     },
     "output_type": "display_data"
    },
    {
     "data": {
      "image/png": "[encoded data removed]",
      "text/plain": [
       "<Figure size 432x288 with 1 Axes>"
      ]
     },
     "metadata": {
      "needs_background": "light"
     },
     "output_type": "display_data"
    }
   ],
   "source": [
    "pyplot.figure()\n",
    "pyplot.scatter(marsh_medians, marsh_bias, alpha=0.5)\n",
    "pyplot.scatter(mod_marsh_medians, mod_marsh_bias, alpha=0.5)\n",
    "pyplot.title('Marsh')\n",
    "pyplot.xlabel('Median Error')\n",
    "pyplot.ylabel('Bias')\n",
    "\n",
    "\n",
    "# pyplot.axis([0, 2, -2, 2])\n",
    "\n",
    "pyplot.figure()\n",
    "pyplot.scatter(schnider_median, schnider_bias, alpha=0.5)\n",
    "pyplot.scatter(mod_schnider_median, mod_schnider_bias, alpha=0.5)\n",
    "pyplot.title('Schnider')\n",
    "pyplot.xlabel('Median Error')\n",
    "pyplot.ylabel('Bias')\n",
    "# pyplot.axis([0, 2, -2, 2])\n",
    "\n",
    "pyplot.show()"
   ]
  },
  {
   "cell_type": "code",
   "execution_count": 9,
   "metadata": {},
   "outputs": [
    {
     "name": "stdout",
     "output_type": "stream",
     "text": [
      "XXX  0.0 10.0 20.0 30.0 40.0 50.0 60.0 70.0 80.0 90.0 100.0 110.0 120.0 130.0 140.0 150.0\n"
     ]
    },
    {
     "name": "stderr",
     "output_type": "stream",
     "text": [
      "/home/jmathilee/.local/share/virtualenvs/Propofol-O2oO_sjt/lib/python3.7/site-packages/PyTCI/models/base.py:49: RuntimeWarning: divide by zero encountered in double_scalars\n",
      "  self.x1 = self.x1 + drug_milligrams / self.v1\n",
      "/home/jmathilee/.local/share/virtualenvs/Propofol-O2oO_sjt/lib/python3.7/site-packages/PyTCI/models/base.py:66: RuntimeWarning: invalid value encountered in double_scalars\n",
      "  self.x1 = self.x1 + (x2k21 - x1k12 + x3k31 - x1k13 - x1k10)\n"
     ]
    },
    {
     "name": "stdout",
     "output_type": "stream",
     "text": [
      " 0.5 0.68 0.75 0.83 0.94 1.06 1.21 1.41 1.66 1.98 2.41  3.0 3.88 5.33 8.83 15.26  nan\n",
      " 0.6 0.54 0.59 0.65 0.71 0.81 0.92 1.07 1.26 1.52 1.86 2.35 3.08 4.28 7.19 12.56  nan\n",
      " 0.7 0.48  0.5 0.54 0.59 0.65 0.73 0.85  1.0  1.2 1.48 1.89  2.5 3.53 6.02 10.63  nan\n",
      " 0.8 0.46 0.46 0.48 0.51 0.55 0.62  0.7 0.82 0.99 1.22 1.56 2.08 2.97 5.15 9.19  nan\n",
      " 0.9 0.46 0.46 0.46 0.47 0.49 0.54 0.61 0.69 0.82 1.03 1.31 1.76 2.55 4.47 8.06  nan\n",
      " 1.0 0.47 0.46 0.46 0.46 0.47 0.49 0.54 0.61 0.71 0.88 1.13 1.51 2.21 3.93 7.17  nan\n",
      " 1.1 0.49 0.48 0.47 0.46 0.46 0.47 0.49 0.55 0.63 0.76 0.98 1.32 1.93  3.5 6.43  nan\n",
      "1.2000000000000002 0.51  0.5 0.48 0.47 0.46 0.46 0.47 0.51 0.58 0.68 0.86 1.17 1.71 3.13 5.82  nan\n",
      " 1.3 0.53 0.51  0.5 0.48 0.47 0.46 0.46 0.48 0.53 0.62 0.77 1.04 1.54 2.83  5.3  nan\n",
      " 1.4 0.55 0.53 0.51  0.5 0.48 0.46 0.46 0.47  0.5 0.58 0.69 0.93 1.39 2.57 4.87  nan\n",
      " 1.5 0.57 0.55 0.53 0.51  0.5 0.48 0.46 0.46 0.48 0.54 0.65 0.85 1.26 2.35  4.5  nan\n",
      " 1.6 0.59 0.57 0.55 0.52 0.51 0.49 0.47 0.46 0.47 0.51 0.61 0.78 1.15 2.17 4.17  nan\n",
      "1.7000000000000002 0.61 0.59 0.57 0.54 0.52 0.51 0.48 0.46 0.47 0.49 0.57 0.72 1.06 2.01 3.88  nan\n",
      " 1.8 0.63 0.61 0.58 0.56 0.54 0.52  0.5 0.47 0.46 0.48 0.54 0.68 0.98 1.87 3.62  nan\n",
      "1.9000000000000001 0.65 0.62  0.6 0.58 0.55 0.53 0.51 0.48 0.46 0.47 0.52 0.64 0.91 1.74 3.39  nan\n",
      " 2.0 0.66 0.64 0.62 0.59 0.57 0.54 0.52 0.49 0.47 0.47 0.51 0.61 0.85 1.63 3.19  nan\n"
     ]
    }
   ],
   "source": [
    "alphas = numpy.linspace(0.5, 2, num=16)\n",
    "betas = numpy.linspace(0, 150, num=16)\n",
    "\n",
    "row = (f\"{b:4}\"for b in betas)\n",
    "print('{:4}'.format('XXX') + ' '.join(row))\n",
    "for a in alphas:\n",
    "#     print(*(f\"{returnmedian(a, b):4}\" for b in betas))\n",
    "    row = (f\"{returnmedian(a, b):4}\" for b in betas)\n",
    "    print(f\"{a:4} \" + ' '.join(row))\n",
    "   \n",
    "   "
   ]
  },
  {
   "cell_type": "code",
   "execution_count": null,
   "metadata": {},
   "outputs": [],
   "source": []
  }
 ],
 "metadata": {
  "kernelspec": {
   "display_name": "Python 3",
   "language": "python",
   "name": "python3"
  },
  "language_info": {
   "codemirror_mode": {
    "name": "ipython",
    "version": 3
   },
   "file_extension": ".py",
   "mimetype": "text/x-python",
   "name": "python",
   "nbconvert_exporter": "python",
   "pygments_lexer": "ipython3",
   "version": "3.8.6"
  }
 },
 "nbformat": 4,
 "nbformat_minor": 2
}
