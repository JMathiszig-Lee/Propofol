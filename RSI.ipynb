{
 "cells": [
  {
   "cell_type": "code",
   "execution_count": 1,
   "metadata": {},
   "outputs": [],
   "source": [
    "from PyTCI.models import propofol"
   ]
  },
  {
   "cell_type": "code",
   "execution_count": 2,
   "metadata": {},
   "outputs": [],
   "source": [
    "bolus_dose = 200\n",
    "plasma_target = 3\n",
    "weight = 80\n",
    "\n",
    "pt = propofol.Marsh(weight)\n",
    "pt.xeo = 0.26/60"
   ]
  },
  {
   "cell_type": "code",
   "execution_count": 3,
   "metadata": {},
   "outputs": [
    {
     "name": "stdout",
     "output_type": "stream",
     "text": [
      "minutes: 8\n",
      "seconds: 2\n"
     ]
    }
   ],
   "source": [
    "pt.give_drug(bolus_dose)\n",
    "seconds = 0\n",
    "\n",
    "#this does the time until xeo hits te target for the first time\n",
    "while pt.xeo < plasma_target:\n",
    "    pt.wait_time(1)\n",
    "    seconds += 1\n",
    "    \n",
    "#this does the 'overshoot' portion\n",
    "while pt.xeo > plasma_target:\n",
    "    pt.wait_time(1)\n",
    "    seconds += 1\n",
    "    \n",
    "minutes = round(seconds/60)\n",
    "print(\"minutes:\", minutes)\n",
    "print(\"seconds:\", seconds % (minutes*60))"
   ]
  },
  {
   "cell_type": "code",
   "execution_count": null,
   "metadata": {},
   "outputs": [],
   "source": []
  }
 ],
 "metadata": {
  "kernelspec": {
   "display_name": "Python 3",
   "language": "python",
   "name": "python3"
  },
  "language_info": {
   "codemirror_mode": {
    "name": "ipython",
    "version": 3
   },
   "file_extension": ".py",
   "mimetype": "text/x-python",
   "name": "python",
   "nbconvert_exporter": "python",
   "pygments_lexer": "ipython3",
   "version": "3.7.4"
  }
 },
 "nbformat": 4,
 "nbformat_minor": 2
}
