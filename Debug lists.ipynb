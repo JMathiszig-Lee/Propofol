{
 "cells": [
  {
   "cell_type": "code",
   "execution_count": 1,
   "metadata": {},
   "outputs": [],
   "source": [
    "from csvreader import read_patient_csv\n",
    "from comparison import compare_models"
   ]
  },
  {
   "cell_type": "code",
   "execution_count": 2,
   "metadata": {},
   "outputs": [],
   "source": [
    "original_list = read_patient_csv()\n",
    "new_list = read_patient_csv(\"FullPKData.csv\")"
   ]
  },
  {
   "cell_type": "code",
   "execution_count": 3,
   "metadata": {},
   "outputs": [
    {
     "name": "stdout",
     "output_type": "stream",
     "text": [
      "OG\n",
      "{'set': 'Marsh', 'results': {'Norm': 0.5289084410243239, 'MDPE': 0.24163714112724338, 'MDAPE': 0.4272855613994707, 'Wobble': 0.19693318672629176}}\n",
      "New\n",
      "{'set': 'Marsh', 'results': {'Norm': 0.9235327149069865, 'MDPE': -0.650892522988457, 'MDAPE': 0.650892522988457, 'Wobble': 0.07476979696984037}}\n"
     ]
    }
   ],
   "source": [
    "print(\"OG\")\n",
    "print(compare_models(original_list[:200], 'Marsh'))\n",
    "print(\"New\")\n",
    "print(compare_models(new_list[:200], 'Marsh'))"
   ]
  },
  {
   "cell_type": "code",
   "execution_count": null,
   "metadata": {},
   "outputs": [],
   "source": []
  }
 ],
 "metadata": {
  "kernelspec": {
   "display_name": "Python 3",
   "language": "python",
   "name": "python3"
  },
  "language_info": {
   "codemirror_mode": {
    "name": "ipython",
    "version": 3
   },
   "file_extension": ".py",
   "mimetype": "text/x-python",
   "name": "python",
   "nbconvert_exporter": "python",
   "pygments_lexer": "ipython3",
   "version": "3.8.6"
  }
 },
 "nbformat": 4,
 "nbformat_minor": 4
}
