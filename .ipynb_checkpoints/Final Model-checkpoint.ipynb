{
 "cells": [
  {
   "cell_type": "code",
   "execution_count": 1,
   "metadata": {},
   "outputs": [],
   "source": [
    "import PyTCI, matplotlib"
   ]
  },
  {
   "cell_type": "code",
   "execution_count": 2,
   "metadata": {},
   "outputs": [],
   "source": [
    "example_patient = {\n",
    "    \"age\": 80,\n",
    "    \"weight\": 85,\n",
    "    \"height\": 191,\n",
    "    \"sex\": 'm',\n",
    "}\n",
    "\n",
    "bolus_dose = 200"
   ]
  },
  {
   "cell_type": "code",
   "execution_count": 3,
   "metadata": {},
   "outputs": [],
   "source": [
    "from PyTCI.weights import leanbodymass\n",
    "from PyTCI.models import propofol\n",
    "        \n",
    "model_parameters = [0.1455, 0.094332, 0.0643, 0.626, 0.0609, 0.7895, 0.6413, 0.0181, 0.2004]\n",
    "\n",
    "class HackDay_model(propofol.Propofol):\n",
    "    def __init__(self, age, weight, height, sex, params):\n",
    "        \n",
    "        lean_body_mass = leanbodymass.hume71(height, weight, sex)\n",
    "        \n",
    "        self.v1 = (params[1] * lean_body_mass) * (age **(-params[2]))\n",
    "        self.v2 = params[3] * lean_body_mass * 2\n",
    "        self.v3 = params[4] * weight * 5\n",
    "        \n",
    "        self.Q1 = (params[5] * (weight ** 0.75) ) * (age ** (-params[6]))\n",
    "        self.Q2 = params[7] * (self.v2 ** 0.75)\n",
    "        self.Q3 = params[8] * (self.v3 ** 0.75)\n",
    "        \n",
    "        self.keo = 0\n",
    "        \n",
    "        propofol.Propofol.from_clearances(self)\n",
    "        propofol.Propofol.setup(self)   "
   ]
  },
  {
   "cell_type": "code",
   "execution_count": 4,
   "metadata": {},
   "outputs": [
    {
     "ename": "AttributeError",
     "evalue": "module 'PyTCI.models.propofol' has no attribute 'Eleveld'",
     "output_type": "error",
     "traceback": [
      "\u001b[0;31m---------------------------------------------------------------------------\u001b[0m",
      "\u001b[0;31mAttributeError\u001b[0m                            Traceback (most recent call last)",
      "\u001b[0;32m<ipython-input-4-2a526cf5e77b>\u001b[0m in \u001b[0;36m<module>\u001b[0;34m\u001b[0m\n\u001b[1;32m      1\u001b[0m \u001b[0mpt1\u001b[0m \u001b[0;34m=\u001b[0m \u001b[0mpropofol\u001b[0m\u001b[0;34m.\u001b[0m\u001b[0mSchnider\u001b[0m\u001b[0;34m(\u001b[0m\u001b[0mexample_patient\u001b[0m\u001b[0;34m[\u001b[0m\u001b[0;34m\"age\"\u001b[0m\u001b[0;34m]\u001b[0m\u001b[0;34m,\u001b[0m \u001b[0mexample_patient\u001b[0m\u001b[0;34m[\u001b[0m\u001b[0;34m\"weight\"\u001b[0m\u001b[0;34m]\u001b[0m\u001b[0;34m,\u001b[0m \u001b[0mexample_patient\u001b[0m\u001b[0;34m[\u001b[0m\u001b[0;34m\"height\"\u001b[0m\u001b[0;34m]\u001b[0m\u001b[0;34m,\u001b[0m \u001b[0mexample_patient\u001b[0m\u001b[0;34m[\u001b[0m\u001b[0;34m\"sex\"\u001b[0m\u001b[0;34m]\u001b[0m\u001b[0;34m)\u001b[0m\u001b[0;34m\u001b[0m\u001b[0;34m\u001b[0m\u001b[0m\n\u001b[0;32m----> 2\u001b[0;31m \u001b[0mpt2\u001b[0m \u001b[0;34m=\u001b[0m \u001b[0mpropofol\u001b[0m\u001b[0;34m.\u001b[0m\u001b[0mEleveld\u001b[0m\u001b[0;34m(\u001b[0m\u001b[0mexample_patient\u001b[0m\u001b[0;34m[\u001b[0m\u001b[0;34m\"age\"\u001b[0m\u001b[0;34m]\u001b[0m\u001b[0;34m,\u001b[0m \u001b[0mexample_patient\u001b[0m\u001b[0;34m[\u001b[0m\u001b[0;34m\"weight\"\u001b[0m\u001b[0;34m]\u001b[0m\u001b[0;34m,\u001b[0m \u001b[0mexample_patient\u001b[0m\u001b[0;34m[\u001b[0m\u001b[0;34m\"height\"\u001b[0m\u001b[0;34m]\u001b[0m\u001b[0;34m,\u001b[0m \u001b[0mexample_patient\u001b[0m\u001b[0;34m[\u001b[0m\u001b[0;34m\"sex\"\u001b[0m\u001b[0;34m]\u001b[0m\u001b[0;34m)\u001b[0m\u001b[0;34m\u001b[0m\u001b[0;34m\u001b[0m\u001b[0m\n\u001b[0m\u001b[1;32m      3\u001b[0m \u001b[0mpt2\u001b[0m\u001b[0;34m.\u001b[0m\u001b[0mkeo\u001b[0m \u001b[0;34m=\u001b[0m \u001b[0;36m1.2\u001b[0m\u001b[0;34m/\u001b[0m\u001b[0;36m60\u001b[0m\u001b[0;34m\u001b[0m\u001b[0;34m\u001b[0m\u001b[0m\n\u001b[1;32m      4\u001b[0m \u001b[0;34m\u001b[0m\u001b[0m\n\u001b[1;32m      5\u001b[0m \u001b[0mpt3\u001b[0m \u001b[0;34m=\u001b[0m \u001b[0mHackDay_model\u001b[0m\u001b[0;34m(\u001b[0m\u001b[0mexample_patient\u001b[0m\u001b[0;34m[\u001b[0m\u001b[0;34m\"age\"\u001b[0m\u001b[0;34m]\u001b[0m\u001b[0;34m,\u001b[0m \u001b[0mexample_patient\u001b[0m\u001b[0;34m[\u001b[0m\u001b[0;34m\"weight\"\u001b[0m\u001b[0;34m]\u001b[0m\u001b[0;34m,\u001b[0m \u001b[0mexample_patient\u001b[0m\u001b[0;34m[\u001b[0m\u001b[0;34m\"height\"\u001b[0m\u001b[0;34m]\u001b[0m\u001b[0;34m,\u001b[0m \u001b[0mexample_patient\u001b[0m\u001b[0;34m[\u001b[0m\u001b[0;34m\"sex\"\u001b[0m\u001b[0;34m]\u001b[0m\u001b[0;34m,\u001b[0m \u001b[0mmodel_parameters\u001b[0m\u001b[0;34m)\u001b[0m\u001b[0;34m\u001b[0m\u001b[0;34m\u001b[0m\u001b[0m\n",
      "\u001b[0;31mAttributeError\u001b[0m: module 'PyTCI.models.propofol' has no attribute 'Eleveld'"
     ]
    }
   ],
   "source": [
    "pt1 = propofol.Schnider(example_patient[\"age\"], example_patient[\"weight\"], example_patient[\"height\"], example_patient[\"sex\"])\n",
    "pt2 = propofol.Eleveld(example_patient[\"age\"], example_patient[\"weight\"], example_patient[\"height\"], example_patient[\"sex\"])\n",
    "pt2.keo = 1.2/60\n",
    "\n",
    "pt3 = HackDay_model(example_patient[\"age\"], example_patient[\"weight\"], example_patient[\"height\"], example_patient[\"sex\"], model_parameters)\n",
    "pt3.keo = 0.5/60"
   ]
  },
  {
   "cell_type": "code",
   "execution_count": null,
   "metadata": {
    "scrolled": true
   },
   "outputs": [],
   "source": [
    "from IPython.display import Markdown\n",
    "\n",
    "\n",
    "Markdown(\"\"\"\n",
    "#### Resulting pharmacokinetic values\n",
    "\n",
    "\n",
    "\n",
    "| Model | V1 | V2 | V3 | CL |\n",
    "| ----- | -- | ---| -- | -- |\n",
    "| Schnider | {pt1v1} | {pt1v2} | {pt1v3} | {pt1k10} |\n",
    "| Marsh | {pt2v1} | {pt2v2} | {pt2v3} | {pt2k10} |\n",
    "| SIVA | {pt3v1} | {pt3v2} | {pt3v3} | {pt3k10} |\n",
    "\"\"\".format(pt1v1 = round(pt1.v1, 2), pt1v2 = round(pt1.v2, 2), pt1v3 = round(pt1.v3, 2), pt1k10 = round(pt1.k10* 60, 2),\n",
    "           pt2v1 = round(pt2.v1, 2), pt2v2 = round(pt2.v2, 2), pt2v3 = round(pt2.v3), pt2k10 = round(pt2.k10* 60, 2),\n",
    "           pt3v1 = round(pt3.v1, 2), pt3v2 = round(pt3.v2, 2), pt3v3 = round(pt3.v3), pt3k10 = round(pt3.k10* 60, 2)\n",
    "))"
   ]
  },
  {
   "cell_type": "code",
   "execution_count": null,
   "metadata": {},
   "outputs": [],
   "source": [
    "%matplotlib notebook\n",
    "\n",
    "import matplotlib.pyplot as plt\n",
    "\n",
    "marshcp = []\n",
    "marshce = []\n",
    "schnidercp = []\n",
    "schniderce = []\n",
    "sivacp = []\n",
    "sivace = []\n",
    "\n",
    "pt1.give_drug(bolus_dose)\n",
    "pt2.give_drug(bolus_dose)\n",
    "pt3.give_drug(bolus_dose)\n",
    "\n",
    "for i in range(600):\n",
    "    pt1.wait_time(1)\n",
    "    pt2.wait_time(1)\n",
    "    pt3.wait_time(1)\n",
    "    \n",
    "    marshcp.append(pt2.x1)\n",
    "    marshce.append(pt2.xeo)\n",
    "    schnidercp.append(pt1.x1)\n",
    "    schniderce.append(pt1.xeo)\n",
    "    sivacp.append(pt3.x1)\n",
    "    sivace.append(pt3.xeo)\n",
    "    \n",
    "induction_graph = plt.plot(marshcp, 'b', marshce, 'b--', schnidercp, 'r', schniderce, 'r--', sivacp, 'g', sivace, 'g--' )\n",
    "\n",
    "plt.show()"
   ]
  },
  {
   "cell_type": "code",
   "execution_count": null,
   "metadata": {},
   "outputs": [],
   "source": [
    "def zero_compartments(patient):\n",
    "    patient.x1 = 0\n",
    "    patient.x2 = 0\n",
    "    patient.x3 = 0\n",
    "    patient.xeo = 0\n",
    "    \n",
    "zero_compartments(pt1)\n",
    "zero_compartments(pt2)\n",
    "zero_compartments(pt3)"
   ]
  },
  {
   "cell_type": "code",
   "execution_count": null,
   "metadata": {},
   "outputs": [],
   "source": [
    "# import numpy\n",
    "# marsh_bolus = []\n",
    "# schnider_bolus= []\n",
    "# siva_bolus = []\n",
    "\n",
    "# effect_target = numpy.linspace(1,8)\n",
    "\n",
    "# for i in effect_target:\n",
    "#     marsh_bolus.append(pt1.effect_bolus(i))\n",
    "#     schnider_bolus.append(pt2.effect_bolus(i))\n",
    "#     siva_bolus.append(pt3.effect_bolus(i))\n",
    "    \n",
    "# fig2 = plt.figure()\n",
    "# plt.plot(effect_target, marsh_bolus)\n",
    "# plt.plot(effect_target, schnider_bolus)\n",
    "# plt.plot(effect_target, siva_bolus)\n",
    "# plt.show()"
   ]
  },
  {
   "cell_type": "code",
   "execution_count": null,
   "metadata": {},
   "outputs": [],
   "source": []
  }
 ],
 "metadata": {
  "kernelspec": {
   "display_name": "Python 3",
   "language": "python",
   "name": "python3"
  },
  "language_info": {
   "codemirror_mode": {
    "name": "ipython",
    "version": 3
   },
   "file_extension": ".py",
   "mimetype": "text/x-python",
   "name": "python",
   "nbconvert_exporter": "python",
   "pygments_lexer": "ipython3",
   "version": "3.7.5"
  }
 },
 "nbformat": 4,
 "nbformat_minor": 2
}
